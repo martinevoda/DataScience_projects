{
 "cells": [
  {
   "cell_type": "code",
   "execution_count": 1,
   "id": "dc78309e",
   "metadata": {},
   "outputs": [
    {
     "name": "stdout",
     "output_type": "stream",
     "text": [
      "Hooray!\n"
     ]
    }
   ],
   "source": [
    "if 5 == 15/3:\n",
    "    print (\"Hooray!\")"
   ]
  },
  {
   "cell_type": "code",
   "execution_count": 2,
   "id": "e4216d31",
   "metadata": {},
   "outputs": [],
   "source": [
    "if 5 == 18 / 3 :\n",
    "    print ( \"Hooray!\")"
   ]
  },
  {
   "cell_type": "code",
   "execution_count": 3,
   "id": "48f0a5da",
   "metadata": {},
   "outputs": [
    {
     "name": "stdout",
     "output_type": "stream",
     "text": [
      "Hooray!\n"
     ]
    }
   ],
   "source": [
    "if 5 != 3*6:\n",
    "    print(\"Hooray!\")"
   ]
  },
  {
   "cell_type": "code",
   "execution_count": 5,
   "id": "5c0ed450",
   "metadata": {},
   "outputs": [
    {
     "name": "stdout",
     "output_type": "stream",
     "text": [
      "Case 2\n"
     ]
    }
   ],
   "source": [
    "x = 1\n",
    "if x > 3:\n",
    "    print(\"Case 1\")\n",
    "if x <= 3:\n",
    "    print(\"Case 2\")"
   ]
  },
  {
   "cell_type": "code",
   "execution_count": 6,
   "id": "b94d3093",
   "metadata": {},
   "outputs": [
    {
     "name": "stdout",
     "output_type": "stream",
     "text": [
      "Case 2\n"
     ]
    }
   ],
   "source": [
    "x = 1\n",
    "if x > 3:\n",
    "    print(\"Case 1\")\n",
    "else:\n",
    "    print(\"Case 2\")\n"
   ]
  },
  {
   "cell_type": "code",
   "execution_count": 27,
   "id": "b61eadd5",
   "metadata": {},
   "outputs": [],
   "source": [
    "def compare_to_five(y):\n",
    "    if y > 6:\n",
    "        return \"Greater\"\n",
    "    elif y < 6:\n",
    "        return \"Less\"\n",
    "    elif y < 0:\n",
    "        return \"Negative\"\n",
    "    else:\n",
    "        return \"Equal\""
   ]
  },
  {
   "cell_type": "code",
   "execution_count": 28,
   "id": "bc65e0fd",
   "metadata": {},
   "outputs": [
    {
     "name": "stdout",
     "output_type": "stream",
     "text": [
      "Greater\n"
     ]
    }
   ],
   "source": [
    "print (compare_to_five(10))"
   ]
  },
  {
   "cell_type": "code",
   "execution_count": 29,
   "id": "2c62c7ea",
   "metadata": {},
   "outputs": [
    {
     "name": "stdout",
     "output_type": "stream",
     "text": [
      "Less\n"
     ]
    }
   ],
   "source": [
    "print (compare_to_five(3))"
   ]
  },
  {
   "cell_type": "code",
   "execution_count": 30,
   "id": "dc39dedf",
   "metadata": {},
   "outputs": [
    {
     "name": "stdout",
     "output_type": "stream",
     "text": [
      "Equal\n"
     ]
    }
   ],
   "source": [
    "print (compare_to_five(6))"
   ]
  },
  {
   "cell_type": "code",
   "execution_count": 31,
   "id": "366553dd",
   "metadata": {},
   "outputs": [
    {
     "name": "stdout",
     "output_type": "stream",
     "text": [
      "Less\n"
     ]
    }
   ],
   "source": [
    "print (compare_to_five(-3))"
   ]
  },
  {
   "cell_type": "code",
   "execution_count": null,
   "id": "3379ad6c",
   "metadata": {},
   "outputs": [],
   "source": []
  }
 ],
 "metadata": {
  "kernelspec": {
   "display_name": "Python 3 (ipykernel)",
   "language": "python",
   "name": "python3"
  },
  "language_info": {
   "codemirror_mode": {
    "name": "ipython",
    "version": 3
   },
   "file_extension": ".py",
   "mimetype": "text/x-python",
   "name": "python",
   "nbconvert_exporter": "python",
   "pygments_lexer": "ipython3",
   "version": "3.9.13"
  }
 },
 "nbformat": 4,
 "nbformat_minor": 5
}
